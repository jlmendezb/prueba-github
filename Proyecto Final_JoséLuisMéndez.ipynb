{
 "cells": [
  {
   "cell_type": "markdown",
   "id": "4ec283ba",
   "metadata": {},
   "source": [
    "# UNIVERSIDAD NACIONAL AUTÓNOMA DE MÉXICO\n",
    "## Colegio de Ciencias y Humanidades plantel Azcapotzalco\n",
    "### Diplomado: \"La importancia de los lenguajes de programación de última generación como herramienta interdisciplinaria que desarrolle el pensamiento crítico y creativo en el CCH\"\n",
    "#### Objetivo general: Presentar un panorama general de los lenguajes de programación de última generación mediante el estudio teórico-práctico de las herramientas y estrategias de aprendizaje de programación que éstos conllevan.\n",
    "##### Objetivos particulares:\n",
    "* Plantear un acercamiento práctico a la enseñanza-aprendizaje de lenguajes de programación de última generación a nivel bachillerato con la finalidad de identificar la importancia de esta actividad como herramienta tecnológica y multidisciplinaria.\n",
    "* Identificar el impacto de la programación en el perfil del egresado del CCH cuyo propósito consiste en abrir el diálogo sobre la adopción de esta actividad como herramienta tecnológica necesaria.\n",
    "* Presentación y enseñanza de dos lenguajes de programación de alto nivel: Python y Julia. El propósito es motivar a los profesores del colegio a la adopción de nuevas técnicas y herramientas de programación.\n",
    "* Discutir sobre la programación como herramienta de trabajo docente en distintas áreas disciplinarias lo que permitirá identificar necesidades particulares en las que la programación puede ser de utilidad.\n",
    "* Ofrecer un enfoque actualizado para la revisión y evaluación de los programas de estudios de las asignaturas que utilizan herramientas computacionales y el planteamiento de nuevos retos.\n",
    "* Diseño de una propuesta didáctica utilizando Python y/o Julia mediante la cual el participante valide las herramientas, técnicas y estrategias obtenidas.\n",
    "#### Participante: José Luis Méndez Becerril\n",
    "### \"Inventario piloto de actividades computacionales (en Python) que complementen aprendizajes de la asignatura Matemáticas 1.\"\n",
    "______________________________________________________________________________________________"
   ]
  },
  {
   "cell_type": "markdown",
   "id": "be336802",
   "metadata": {},
   "source": [
    "Notas: \n",
    "* El entregable de este diplomado se concibió como un \"inventario piloto\" de \"actividades computacionales\" que los profesores de Matemáticas 1 puedan integrar a sus propias estrategias didácticas. Por eso no se presenta este avance como una estrategia didáctica.\n",
    "* Por el momento, no se considera que estas actividades las programen los alumnos, aunque se podría, dependiendo de los tiempos y de los planes didácticos de cada docente.\n",
    "* ¿Porqué Python?: Por su difusión.\n",
    "* ¿Porqué Julia no?: Por tener una menor difusión y porque no se requiere capacidad de cómputo.\n",
    "* ¿Porqué JAVA no?: ¡Porque me reprueban!\n",
    "\n",
    "#### El espíritu de este entregable es provocar el interés de profesores por crear un inventario de actividades computacionales que complementen los objetivos de los aprendizajes de los Programas de Estudio.\n",
    "#### Se podría crear un \"grupo de trabajo\" o \"seminario\" que se dedique a esto...\n",
    "______________________________________________________________________________________________"
   ]
  },
  {
   "cell_type": "markdown",
   "id": "d9529d71",
   "metadata": {},
   "source": [
    "### Unidad 1. El significado de los números y sus operaciones básicas"
   ]
  },
  {
   "cell_type": "markdown",
   "id": "9f733011",
   "metadata": {},
   "source": [
    "#### Aprendizaje 1: Comprende el significado de los números reales.\n",
    "##### Temática: Significado de los números racionales (enteros y no enteros) e irracionales."
   ]
  },
  {
   "cell_type": "markdown",
   "id": "8b675a14",
   "metadata": {},
   "source": [
    "#### Actividad 1: Contar objetos.\n",
    "Reflexionar la utilidad de los números para contar. Se podría discutir los diferentes números."
   ]
  },
  {
   "cell_type": "code",
   "execution_count": 11,
   "id": "1b0528cc",
   "metadata": {},
   "outputs": [
    {
     "name": "stdout",
     "output_type": "stream",
     "text": [
      "¿Para qué sirven los números naturales?\n",
      "🍎 🍎 🍎\n",
      "¿Cuántas manzanas hay?: 0\n",
      "¿Qué no ves alguna manzana?\n",
      "\n",
      "Entonces, ¿Para qué sirven los números naturales?: \n"
     ]
    }
   ],
   "source": [
    "import random # Importo la librería random\n",
    "\n",
    "print('¿Para qué sirven los números naturales?')\n",
    "# Establecer el número de objetos a partir de un número aleatorio\n",
    "cantidad = random.randint(1, 20) # De 1 a 20 objetos aleatorios se pueden generar AQUÍ SE DEFINE EL NumMAX DE OBJETOS\n",
    "# Generar la lista con los objetos (emoji de manzana)\n",
    "objetos = ['🍎'] * cantidad # Uso la imagen de una manzana y la multiplico por la cantidad aleatoria\n",
    "print(' '.join(objetos)) #Imprime los objetos en fila suparados por ' '\n",
    "# Obtener el dato del usuario\n",
    "conteo_usuario = float(input('¿Cuántas manzanas hay?: '))\n",
    "# Checar si el conteo del usuario es correcto\n",
    "if conteo_usuario == cantidad:\n",
    "    print(\"Correcto! Buen trabajo!\")\n",
    "elif conteo_usuario==0:\n",
    "    print(\"¿Qué no ves alguna manzana?\")\n",
    "elif conteo_usuario<0:\n",
    "    print(\"¿De verdad crees que puede haber una cantidad negativa de manzanas?. ¿No sabes contar?\")\n",
    "elif isinstance(conteo_usuario,float):\n",
    "    print(\"¿De verdad estás viendo que hay pedazos de manzanas?, ¿Tiene lógica tu pensamiento?\")\n",
    "else:\n",
    "    print(f\"Incorrecto!. Hay {cantidad} manzanas. ¿No sabes contar?\")\n",
    "print(\"\\nEntonces, ¿Para qué sirven los números naturales?: \")"
   ]
  },
  {
   "cell_type": "markdown",
   "id": "d3f92e42",
   "metadata": {},
   "source": [
    "¿Qué más se puede contar o medir?: dinámicas de poblaciones, objetos celestes, flujos de comercio, fenómenos temporales.\n",
    "\n",
    "Otras magnitudes no absolutas: \n",
    "* Sonido (decibeles), se requiere el establecimiento de un \"cero absoluto\" que es el umbral de audición humana, definido en 0 [dB]. \n",
    "* El pH es una medida de la acidez o bascicidad. Se define como el logaritmo negativo de la concentración de iones hidrógeno. La escala pH va de 0 a 14, siendo el 7 el valor neutro. Un valor >7 indica una solución ácida, mientras que un valor <7 indica una solución básica.\n",
    "* El potencial eléctrico es una medida de la energía potencial eléctrica por unidad de carga en un punto dado en el espacio. Se mide en Volts y es una magnitud relativa al punto de referencia, el cual usualmente se define como un punto de cero potencial eléctrico."
   ]
  },
  {
   "cell_type": "markdown",
   "id": "6105816b",
   "metadata": {},
   "source": [
    "______________________________________________________________________________________________\n",
    "#### Aprendizaje 1: Comprende el significado de los números reales.\n",
    "##### Temática: Significado de los números racionales (enteros y no enteros) e irracionales."
   ]
  },
  {
   "cell_type": "markdown",
   "id": "89493ee4",
   "metadata": {},
   "source": [
    "#### Actividad 2: Comprender números racionales en la recta numérica\n",
    "Comprensión de los números racionales mediante el hecho de dividir la unidad de referencia arbitraria un número \"q\" de veces para contar \"p\" de estas veces, y así poder ubicar en la recta numérica el número racional p/q. El valor obtenido (en decimal, por ejemplo), significa que los dos números enteros están relacionados mediante tal valor N. Por lo tanto \"p\" está contenido N veces en \"q\"."
   ]
  },
  {
   "cell_type": "code",
   "execution_count": 12,
   "id": "22b9206f",
   "metadata": {},
   "outputs": [
    {
     "name": "stdout",
     "output_type": "stream",
     "text": [
      "Ubicaremos números racionales entre -3 y 3 en la recta numérica\n",
      "¿En cuántas partes iguales quieres divir la unidad de referencia (q)?: 4\n",
      "¿Cuántas partes quieres contar (entre -12 y 12), (p): 7\n",
      "\n",
      "La ubicación en la recta numérica de 7/4 es:\n"
     ]
    },
    {
     "data": {
      "image/png": "[encoded data removed]",
      "text/plain": [
       "<Figure size 640x480 with 1 Axes>"
      ]
     },
     "metadata": {},
     "output_type": "display_data"
    }
   ],
   "source": [
    "import matplotlib.pyplot as plt # Importo el método pyplot de la librería matplotlib\n",
    "\n",
    "print(\"Ubicaremos números racionales entre -3 y 3 en la recta numérica\")\n",
    "# Aquí se establecen los extremos de la recta numérica\n",
    "inicio = -3\n",
    "fin = 3\n",
    "# Preguntar al usuario en cuántas partes quiere divir la unidad de referencia\n",
    "q = int(input('¿En cuántas partes iguales quieres divir la unidad de referencia (q)?: '))\n",
    "# Crear una figura y el eje X\n",
    "figura, ejeX = plt.subplots()\n",
    "# Graficar la recta numérica\n",
    "ejeX.plot([inicio, fin], [0, 0], 'k-')\n",
    "# Graficar las divisiones en la recta numérica\n",
    "for num in range(inicio * q, fin * q + 1):\n",
    "    x = num / q\n",
    "    if num % q == 0:\n",
    "        ejeX.plot([x, x], [-0.2, 0.2], 'k-', linewidth=1)\n",
    "        ejeX.annotate(str(int(x)), (x, -0.5))\n",
    "    else:\n",
    "        ejeX.plot([x, x], [-0.1, 0.1], 'b-', linewidth=1)\n",
    "# Solicitar el numerador del número racional\n",
    "p = int(input(f'¿Cuántas partes quieres contar (entre {inicio * q} y {fin * q}), (p): '))\n",
    "numero_racional = p / q\n",
    "# Graficar el número racional ingresado por el usuario\n",
    "ejeX.plot(numero_racional, 0, 'bo', markersize=8)\n",
    "ejeX.annotate(f'{p}/{q}', (numero_racional, 0.5))\n",
    "# Remover el eje Y\n",
    "ejeX.yaxis.set_visible(False)\n",
    "print(\"\\nLa ubicación en la recta numérica de %d/%d es:\"% (p,q))\n",
    "# Mostrar la gráfica\n",
    "plt.show()"
   ]
  },
  {
   "cell_type": "markdown",
   "id": "d382e5a4",
   "metadata": {},
   "source": [
    "______________________________________________________________________________________________\n",
    "#### Aprendizaje 2 Usa correctamente las diversas simbolizaciones de un número racional, transitando entre sus equivalencias (cuando sea necesario) en problemas puramente aritméticos y en contexto.\n",
    "#### Actividad 3: ¿Soy un número racional?"
   ]
  },
  {
   "cell_type": "code",
   "execution_count": 13,
   "id": "c8f97028",
   "metadata": {},
   "outputs": [
    {
     "name": "stdout",
     "output_type": "stream",
     "text": [
      "Ingresa un número decimal: 3.3\n",
      "3.3 es un número racional y puede ser expresado como 33/10 en su forma simplificada. ¿Porqué?\n"
     ]
    }
   ],
   "source": [
    "from fractions import Fraction # Importo la clase Fraction de la librería fractions para trabajar con fracciones\n",
    "\n",
    "numero = float(input(\"Ingresa un número decimal: \")) # Obtengo dato del usuario\n",
    "fraccion = Fraction(numero).limit_denominator() # Uso la clase Fraction para crear un objeto Fraction que represente un número racional y luego llamo al método limit_denominator() en el objeto para obtener una fracción\n",
    "#El método limit_denominator() obtiene la representación racional más próxima\n",
    "\n",
    "if fraccion.numerator == numero: # Si el número es igual al numerador, es un número entero\n",
    "    print(f\"{numero} es un número entero.\")\n",
    "elif abs(fraccion.denominator) > 10**6: # Si el valor absoluto del denominador de fraccion es mayor a 1M...\n",
    "    print(f\"{numero} es un número irracional.\")\n",
    "else:\n",
    "    print(f\"{numero} es un número racional y puede ser expresado como {fraccion} en su forma simplificada. ¿Porqué?\")"
   ]
  },
  {
   "cell_type": "markdown",
   "id": "fd71ba95",
   "metadata": {},
   "source": [
    "______________________________________________________________________________________________\n",
    "#### Aprendizaje 3: Compara dos cantidades haciendo uso de las representaciones de un número racional\n",
    "#### Actividad 3: Adivina el número que estoy pensando\n",
    "Comprensión de la posición de números en la recta numérica (mayores a la derecha, menores a la izquierda)."
   ]
  },
  {
   "cell_type": "code",
   "execution_count": null,
   "id": "639e222f",
   "metadata": {},
   "outputs": [
    {
     "name": "stdout",
     "output_type": "stream",
     "text": [
      "¿Lograrás adivinar el número entero que estoy pensando?\n",
      "¿Qué número entero entre -10 y 10 crees que estoy pensando?: 5\n",
      "El número entero que estoy pensando está más a la izquierda en la recta numérica. ¿Soy mayor o menor?\n",
      "¿Qué número entero entre -10 y 10 crees que estoy pensando?: 3\n",
      "El número entero que estoy pensando está más a la izquierda en la recta numérica. ¿Soy mayor o menor?\n"
     ]
    }
   ],
   "source": [
    "import random \n",
    "\n",
    "def adivina_numero(): \n",
    "    numero = random.randint(-10,10) #Aquí se define el intervalo en el que estará el número a adivinar\n",
    "    intentos = 0\n",
    "    while True:\n",
    "        tuintento = int(input(\"¿Qué número entero entre -10 y 10 crees que estoy pensando?: \")) #Aquí es importante la consistencia del intervalo impreso\n",
    "        intentos += 1\n",
    "        if tuintento == numero:\n",
    "            print(f\"Bien! Adivinaste el número entero en {intentos} intentos.\")\n",
    "            break\n",
    "        elif tuintento < numero:\n",
    "            print(\"El número entero que estoy pensando está más a la derecha en la recta numérica. ¿Soy mayor o menor?\")\n",
    "        else:\n",
    "            print(\"El número entero que estoy pensando está más a la izquierda en la recta numérica. ¿Soy mayor o menor?\")\n",
    "\n",
    "print(\"¿Lograrás adivinar el número entero que estoy pensando?\")\n",
    "adivina_numero()"
   ]
  },
  {
   "cell_type": "markdown",
   "id": "0a965f57",
   "metadata": {},
   "source": [
    "______________________________________________________________________________________________\n",
    "#### Aprendizaje 4: Opera correctamente con los números racionales (enteros y no enteros), en los casos de una sola operación y una secuencia de operaciones\n",
    "#### Actividad 4: Calculadora aritmética básica con números racionales\n",
    "Reflexionar con los alumnos los algoritmos para las operaciones básicas con números racionales."
   ]
  },
  {
   "cell_type": "code",
   "execution_count": 8,
   "id": "82bde03f",
   "metadata": {},
   "outputs": [
    {
     "name": "stdout",
     "output_type": "stream",
     "text": [
      "Programa para realizar operaciones aritméticas básicas entre dos números racionales, ambos de la forma p/q\n",
      "¿Qué operación aritmética básica entre dos números racionales quieres realizar?: (+, -, *, /) o ingresa 's' para salir: +\n",
      "Ingresa el primer número racional en la forma p/q: 1/2\n",
      "Ingresa el segundo número racional en la forma p/q: 4/2\n",
      "El mínimo común múltiplo de los denominadores es: 2\n",
      "1/2 = 1/2 y 2 = 2\n",
      "1/2 + 2 = 5/2\n",
      "Bye! Bye!\n"
     ]
    }
   ],
   "source": [
    "# ¿Agregar entorno gráfico?\n",
    "\n",
    "import math\n",
    "from fractions import Fraction\n",
    "\n",
    "def aritm_fracc():\n",
    "    while True:\n",
    "        operacion = input(\"¿Qué operación aritmética básica entre dos números racionales quieres realizar?: (+, -, *, /) o ingresa 's' para salir: \")\n",
    "        if operacion == 's':\n",
    "            break\n",
    "        fraccion1 = Fraction(input(\"Ingresa el primer número racional en la forma p/q: \"))\n",
    "        fraccion2 = Fraction(input(\"Ingresa el segundo número racional en la forma p/q: \"))\n",
    "        if operacion == '+':\n",
    "            mcm = fraccion1.denominator * fraccion2.denominator // math.gcd(fraccion1.denominator, fraccion2.denominator)\n",
    "            print(f\"El mínimo común múltiplo de los denominadores es: {mcm}\")\n",
    "            f1 = Fraction(fraccion1.numerator * (mcm // fraccion1.denominator), mcm)\n",
    "            f2 = Fraction(fraccion2.numerator * (mcm // fraccion2.denominator), mcm)\n",
    "            print(f\"{fraccion1} = {f1} y {fraccion2} = {f2}\")\n",
    "            resultado = f1 + f2\n",
    "            print(f\"{f1} + {f2} = {resultado}\")\n",
    "            print(\"Bye! Bye!\")\n",
    "            break\n",
    "        elif operacion == '-':\n",
    "            mcm = fraccion1.denominator * fraccion2.denominator // math.gcd(fraccion1.denominator, fraccion2.denominator)\n",
    "            print(f\"El mínimo común múltiplo de los denominadores es: {mcm}\")\n",
    "            f1 = Fraction(fraccion1.numerator * (mcm // fraccion1.denominator), mcm)\n",
    "            f2 = Fraction(fraccion2.numerator * (mcm // fraccion2.denominator), mcm)\n",
    "            print(f\"{fraccion1} = {f1} y {fraccion2} = {f2}\")\n",
    "            resultado = f1 - f2\n",
    "            print(f\"{f1} - {f2} = {resultado}\")\n",
    "            print(\"Bye! Bye!\")\n",
    "            break\n",
    "        elif operacion == '*':\n",
    "            resultado = fraccion1 * fraccion2\n",
    "            print(\"En la multiplicación de números racionales no involucramos al mcm de los denominadores.\")\n",
    "            print(f\"{fraccion1} * {fraccion2} = {resultado}\")\n",
    "            print(\"     1. Primero obtienes el signo del resultado haciendo uso de las leyes de los signos.\")\n",
    "            print(\"     2. Después, multiplica numeradores y el resultado será el numerador.\")\n",
    "            print(\"     3. Por último, multiplica denominadores y el resultado será el denominador.\")\n",
    "            print(\"Siempre simplificarás la fracción si es posible.\")\n",
    "            print(\"Bye! Bye!\")\n",
    "            break\n",
    "        elif operacion == '/':\n",
    "            resultado = fraccion1 / fraccion2\n",
    "            print(\"En la división de números racionales no involucramos al mcm de los denominadores.\")\n",
    "            print(f\"{fraccion1} / {fraccion2} = {resultado}\")\n",
    "            print(\"     1. Primero obtienes el signo del resultado haciendo uso de las leyes de los signos.\")\n",
    "            print(\"     2. Después, multiplicas los números externos p1 y q2 y el resultado será el numerador\")\n",
    "            print(\"     2. Después, multiplicas los números internos q1 y p1 y el resultado será el denominador\")\n",
    "            print(\"Bye! Bye!\")\n",
    "            break\n",
    "        else:\n",
    "            print(\"Selección inválida. ¿Qué no pones antención?\")\n",
    "            print(\"Bye! Bye!\")\n",
    "            continue\n",
    "\n",
    "print(\"Programa para realizar operaciones aritméticas básicas entre dos números racionales, ambos de la forma p/q\")\n",
    "aritm_fracc()"
   ]
  },
  {
   "cell_type": "markdown",
   "id": "1469a836",
   "metadata": {},
   "source": [
    "______________________________________________________________________________________________________________________"
   ]
  },
  {
   "cell_type": "markdown",
   "id": "e5549e4f",
   "metadata": {},
   "source": [
    "# __________________________________________________________________________"
   ]
  },
  {
   "cell_type": "code",
   "execution_count": null,
   "id": "07ea2501",
   "metadata": {},
   "outputs": [],
   "source": [
    "# Dibujar una línea y adivinar su longitud para reflexionar sobre la \n",
    "# utilidad de los números enteros para medir, contar\n",
    "\n",
    "import random\n",
    "from PIL import Image, ImageDraw\n",
    "\n",
    "def dibujar_linea(length, direction):\n",
    "    # Crear una imagen con fondo blanco\n",
    "    imagen = Image.new('RGB', (400, 100), 'white')\n",
    "    dibujar = ImageDraw.Draw(imagen)\n",
    "    \n",
    "    # Dibujar la línea\n",
    "    if direction == 'positiva':\n",
    "        dibujar.line((50, 50, 50 + length, 50), fill='black', width=3)\n",
    "        dibujar.polygon([(50 + length - 10, 40), (50 + length, 50), (50 + length - 10, 60)], fill='black')\n",
    "    else:\n",
    "        dibujar.line((350, 50, 350 - length, 50), fill='black', width=3)\n",
    "        dibujar.polygon([(350 - length + 10, 40), (350 - length, 50), (350 - length + 10, 60)], fill='black')\n",
    "    \n",
    "    # Mostrar la linea\n",
    "    imagen.show()\n",
    "\n",
    "def adivinar_longitud_linea():\n",
    "    # Genera una linea con valores de longitud y dirección aleatorios\n",
    "    longitud_linea = random.randint(1, 300) # La longitud es un valor entero aleatorio entre 1 y 300\n",
    "    linea_direccion = random.choice(['positiva', 'negativa']) # Se elige aleatoriamente la dirección\n",
    "    \n",
    "    # Dibujar la linea\n",
    "    dibujar_linea(longitud_linea, linea_direccion)\n",
    "    \n",
    "    # Calcular el intervalo para el valor de la longitud de la línea\n",
    "    extremo_inferior = max(1, longitud_linea - 20) \n",
    "    extremo_superior = min(300, longitud_linea + 20)\n",
    "    \n",
    "    # Mostrar el intervalo en el que se encuentra la longitud de la línea\n",
    "    print(f'La longitud de la linea está entre {extremo_inferior} y {extremo_superior}.')\n",
    "    \n",
    "    # Iterar hasta que el usuario adivine la longitud de la línea\n",
    "    while True:\n",
    "        # Preguntar al usuario por la longitud de la línea\n",
    "        intento = int(input('¿Cuál es la longitud entera de esta linea?: '))\n",
    "        \n",
    "        # Evaluar si el intento es correcto\n",
    "        if intento == longitud_linea:\n",
    "            print('Correcto!')\n",
    "            break\n",
    "        elif intento < longitud_linea:\n",
    "            print('Mi longitud es un número entero mayor. ¿Mi longitud está a la derecha o a la izquierda en la recta numérica?')\n",
    "        else:\n",
    "            print('Mi longitud es un número entero menor. ¿Mi longitud está a la derecha o a la izquierda en la recta numérica?')\n",
    "\n",
    "# Llamar la función\n",
    "adivinar_longitud_linea()"
   ]
  },
  {
   "cell_type": "code",
   "execution_count": null,
   "id": "0d024669",
   "metadata": {},
   "outputs": [],
   "source": []
  }
 ],
 "metadata": {
  "kernelspec": {
   "display_name": "Python 3 (ipykernel)",
   "language": "python",
   "name": "python3"
  },
  "language_info": {
   "codemirror_mode": {
    "name": "ipython",
    "version": 3
   },
   "file_extension": ".py",
   "mimetype": "text/x-python",
   "name": "python",
   "nbconvert_exporter": "python",
   "pygments_lexer": "ipython3",
   "version": "3.10.9"
  }
 },
 "nbformat": 4,
 "nbformat_minor": 5
}
